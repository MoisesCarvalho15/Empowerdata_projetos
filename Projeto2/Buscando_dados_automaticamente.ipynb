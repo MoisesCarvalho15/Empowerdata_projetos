{
 "cells": [
  {
   "cell_type": "markdown",
   "id": "6641e683",
   "metadata": {},
   "source": [
    "# Obtendo dados de ações automaticamente\n",
    "- Cenário:\n",
    "    - Você trabalha em uma empresa de investimentos e todos os dias precisa enviar um e-mail com o valor da cotação de uma determinada ação. O e-mail precisa conter as informações dos últimos seis meses:\n",
    "        - Cotação mínima da ação\n",
    "        - Cotação máxima da ação\n",
    "        - Cotação do dia"
   ]
  },
  {
   "cell_type": "markdown",
   "id": "87421c29",
   "metadata": {},
   "source": [
    "## Importando as bibliotecas\n",
    "- caso não tenha as bibliotecas, para instalar:\n",
    "    - `!pip install yfinance`\n",
    "    - `!pip install pyautogui`\n",
    "    - `!pip install pyperclip`\n",
    "   "
   ]
  },
  {
   "cell_type": "code",
   "execution_count": 1,
   "id": "fb923ce2",
   "metadata": {},
   "outputs": [],
   "source": [
    "import yfinance\n",
    "import pyautogui\n",
    "import pyperclip"
   ]
  },
  {
   "cell_type": "markdown",
   "id": "be6d17e3",
   "metadata": {},
   "source": [
    "## Buscando as cotações de uma Ação\n",
    "- **Ticker:** Código de uma ação"
   ]
  },
  {
   "cell_type": "code",
   "execution_count": 2,
   "id": "9e09f1e0",
   "metadata": {},
   "outputs": [
    {
     "name": "stdout",
     "output_type": "stream",
     "text": [
      "Digite o código da ação: PETR4.SA\n"
     ]
    }
   ],
   "source": [
    "# Entrada do usuário\n",
    "codigo_acao = input(\"Digite o código da ação: \")\n",
    "dados = yfinance.Ticker(codigo_acao)"
   ]
  },
  {
   "cell_type": "markdown",
   "id": "362fff4b",
   "metadata": {},
   "source": [
    "### Configurando o período histórico de uma ação\n",
    "- **Ano:** y\n",
    "- **Mês:** mo\n",
    "- **Dia:** d"
   ]
  },
  {
   "cell_type": "code",
   "execution_count": 3,
   "id": "c2289d1d",
   "metadata": {},
   "outputs": [
    {
     "data": {
      "text/html": [
       "<div>\n",
       "<style scoped>\n",
       "    .dataframe tbody tr th:only-of-type {\n",
       "        vertical-align: middle;\n",
       "    }\n",
       "\n",
       "    .dataframe tbody tr th {\n",
       "        vertical-align: top;\n",
       "    }\n",
       "\n",
       "    .dataframe thead th {\n",
       "        text-align: right;\n",
       "    }\n",
       "</style>\n",
       "<table border=\"1\" class=\"dataframe\">\n",
       "  <thead>\n",
       "    <tr style=\"text-align: right;\">\n",
       "      <th></th>\n",
       "      <th>Open</th>\n",
       "      <th>High</th>\n",
       "      <th>Low</th>\n",
       "      <th>Close</th>\n",
       "      <th>Volume</th>\n",
       "      <th>Dividends</th>\n",
       "      <th>Stock Splits</th>\n",
       "    </tr>\n",
       "    <tr>\n",
       "      <th>Date</th>\n",
       "      <th></th>\n",
       "      <th></th>\n",
       "      <th></th>\n",
       "      <th></th>\n",
       "      <th></th>\n",
       "      <th></th>\n",
       "      <th></th>\n",
       "    </tr>\n",
       "  </thead>\n",
       "  <tbody>\n",
       "    <tr>\n",
       "      <th>2023-04-20 00:00:00-03:00</th>\n",
       "      <td>21.339238</td>\n",
       "      <td>21.709375</td>\n",
       "      <td>21.154170</td>\n",
       "      <td>21.476028</td>\n",
       "      <td>54738400</td>\n",
       "      <td>0.0</td>\n",
       "      <td>0.0</td>\n",
       "    </tr>\n",
       "    <tr>\n",
       "      <th>2023-04-24 00:00:00-03:00</th>\n",
       "      <td>21.403610</td>\n",
       "      <td>21.934677</td>\n",
       "      <td>21.323145</td>\n",
       "      <td>21.886398</td>\n",
       "      <td>43820900</td>\n",
       "      <td>0.0</td>\n",
       "      <td>0.0</td>\n",
       "    </tr>\n",
       "    <tr>\n",
       "      <th>2023-04-25 00:00:00-03:00</th>\n",
       "      <td>21.854213</td>\n",
       "      <td>22.127793</td>\n",
       "      <td>21.500168</td>\n",
       "      <td>21.797888</td>\n",
       "      <td>53854100</td>\n",
       "      <td>0.0</td>\n",
       "      <td>0.0</td>\n",
       "    </tr>\n",
       "    <tr>\n",
       "      <th>2023-04-26 00:00:00-03:00</th>\n",
       "      <td>21.822025</td>\n",
       "      <td>21.902489</td>\n",
       "      <td>21.524305</td>\n",
       "      <td>21.524305</td>\n",
       "      <td>40249400</td>\n",
       "      <td>0.0</td>\n",
       "      <td>0.0</td>\n",
       "    </tr>\n",
       "    <tr>\n",
       "      <th>2023-04-27 00:00:00-03:00</th>\n",
       "      <td>21.604773</td>\n",
       "      <td>21.870306</td>\n",
       "      <td>20.848404</td>\n",
       "      <td>21.001287</td>\n",
       "      <td>115632700</td>\n",
       "      <td>0.0</td>\n",
       "      <td>0.0</td>\n",
       "    </tr>\n",
       "    <tr>\n",
       "      <th>...</th>\n",
       "      <td>...</td>\n",
       "      <td>...</td>\n",
       "      <td>...</td>\n",
       "      <td>...</td>\n",
       "      <td>...</td>\n",
       "      <td>...</td>\n",
       "      <td>...</td>\n",
       "    </tr>\n",
       "    <tr>\n",
       "      <th>2023-10-16 00:00:00-03:00</th>\n",
       "      <td>36.400002</td>\n",
       "      <td>36.799999</td>\n",
       "      <td>35.959999</td>\n",
       "      <td>36.680000</td>\n",
       "      <td>49626600</td>\n",
       "      <td>0.0</td>\n",
       "      <td>0.0</td>\n",
       "    </tr>\n",
       "    <tr>\n",
       "      <th>2023-10-17 00:00:00-03:00</th>\n",
       "      <td>36.700001</td>\n",
       "      <td>37.669998</td>\n",
       "      <td>36.630001</td>\n",
       "      <td>37.669998</td>\n",
       "      <td>68814800</td>\n",
       "      <td>0.0</td>\n",
       "      <td>0.0</td>\n",
       "    </tr>\n",
       "    <tr>\n",
       "      <th>2023-10-18 00:00:00-03:00</th>\n",
       "      <td>37.990002</td>\n",
       "      <td>38.610001</td>\n",
       "      <td>37.910000</td>\n",
       "      <td>38.520000</td>\n",
       "      <td>85931700</td>\n",
       "      <td>0.0</td>\n",
       "      <td>0.0</td>\n",
       "    </tr>\n",
       "    <tr>\n",
       "      <th>2023-10-19 00:00:00-03:00</th>\n",
       "      <td>38.360001</td>\n",
       "      <td>38.470001</td>\n",
       "      <td>37.919998</td>\n",
       "      <td>38.340000</td>\n",
       "      <td>56016600</td>\n",
       "      <td>0.0</td>\n",
       "      <td>0.0</td>\n",
       "    </tr>\n",
       "    <tr>\n",
       "      <th>2023-10-20 00:00:00-03:00</th>\n",
       "      <td>38.689999</td>\n",
       "      <td>38.860001</td>\n",
       "      <td>37.389999</td>\n",
       "      <td>37.849998</td>\n",
       "      <td>66242400</td>\n",
       "      <td>0.0</td>\n",
       "      <td>0.0</td>\n",
       "    </tr>\n",
       "  </tbody>\n",
       "</table>\n",
       "<p>127 rows × 7 columns</p>\n",
       "</div>"
      ],
      "text/plain": [
       "                                Open       High        Low      Close  \\\n",
       "Date                                                                    \n",
       "2023-04-20 00:00:00-03:00  21.339238  21.709375  21.154170  21.476028   \n",
       "2023-04-24 00:00:00-03:00  21.403610  21.934677  21.323145  21.886398   \n",
       "2023-04-25 00:00:00-03:00  21.854213  22.127793  21.500168  21.797888   \n",
       "2023-04-26 00:00:00-03:00  21.822025  21.902489  21.524305  21.524305   \n",
       "2023-04-27 00:00:00-03:00  21.604773  21.870306  20.848404  21.001287   \n",
       "...                              ...        ...        ...        ...   \n",
       "2023-10-16 00:00:00-03:00  36.400002  36.799999  35.959999  36.680000   \n",
       "2023-10-17 00:00:00-03:00  36.700001  37.669998  36.630001  37.669998   \n",
       "2023-10-18 00:00:00-03:00  37.990002  38.610001  37.910000  38.520000   \n",
       "2023-10-19 00:00:00-03:00  38.360001  38.470001  37.919998  38.340000   \n",
       "2023-10-20 00:00:00-03:00  38.689999  38.860001  37.389999  37.849998   \n",
       "\n",
       "                              Volume  Dividends  Stock Splits  \n",
       "Date                                                           \n",
       "2023-04-20 00:00:00-03:00   54738400        0.0           0.0  \n",
       "2023-04-24 00:00:00-03:00   43820900        0.0           0.0  \n",
       "2023-04-25 00:00:00-03:00   53854100        0.0           0.0  \n",
       "2023-04-26 00:00:00-03:00   40249400        0.0           0.0  \n",
       "2023-04-27 00:00:00-03:00  115632700        0.0           0.0  \n",
       "...                              ...        ...           ...  \n",
       "2023-10-16 00:00:00-03:00   49626600        0.0           0.0  \n",
       "2023-10-17 00:00:00-03:00   68814800        0.0           0.0  \n",
       "2023-10-18 00:00:00-03:00   85931700        0.0           0.0  \n",
       "2023-10-19 00:00:00-03:00   56016600        0.0           0.0  \n",
       "2023-10-20 00:00:00-03:00   66242400        0.0           0.0  \n",
       "\n",
       "[127 rows x 7 columns]"
      ]
     },
     "execution_count": 3,
     "metadata": {},
     "output_type": "execute_result"
    }
   ],
   "source": [
    "# Buscando o período de seis meses\n",
    "tabela = dados.history(\"6mo\")\n",
    "\n",
    "# Imprimindo os dados\n",
    "tabela"
   ]
  },
  {
   "cell_type": "markdown",
   "id": "d0203bd8",
   "metadata": {},
   "source": [
    "### Selecionando apenas a coluna de Fechamento (close)\n",
    "- Para selecionar a coluna desejada, basta colocar o nome dela entre colchetes na frente da variável que está armazenando os dados"
   ]
  },
  {
   "cell_type": "code",
   "execution_count": 4,
   "id": "7ac86674",
   "metadata": {},
   "outputs": [
    {
     "data": {
      "text/plain": [
       "Date\n",
       "2023-04-20 00:00:00-03:00    21.476028\n",
       "2023-04-24 00:00:00-03:00    21.886398\n",
       "2023-04-25 00:00:00-03:00    21.797888\n",
       "2023-04-26 00:00:00-03:00    21.524305\n",
       "2023-04-27 00:00:00-03:00    21.001287\n",
       "                               ...    \n",
       "2023-10-16 00:00:00-03:00    36.680000\n",
       "2023-10-17 00:00:00-03:00    37.669998\n",
       "2023-10-18 00:00:00-03:00    38.520000\n",
       "2023-10-19 00:00:00-03:00    38.340000\n",
       "2023-10-20 00:00:00-03:00    37.849998\n",
       "Name: Close, Length: 127, dtype: float64"
      ]
     },
     "execution_count": 4,
     "metadata": {},
     "output_type": "execute_result"
    }
   ],
   "source": [
    "coluna_fechamento = tabela.Close\n",
    "\n",
    "# Imprimindo os dados\n",
    "coluna_fechamento"
   ]
  },
  {
   "cell_type": "markdown",
   "id": "b8a09f27",
   "metadata": {},
   "source": [
    "### Gerando um gráfico de linha\n",
    "- Para gerar um gráfico simples, vamos usar o método **plot()**"
   ]
  },
  {
   "cell_type": "code",
   "execution_count": 5,
   "id": "f08b7f84",
   "metadata": {},
   "outputs": [
    {
     "data": {
      "text/plain": [
       "<Axes: xlabel='Date'>"
      ]
     },
     "execution_count": 5,
     "metadata": {},
     "output_type": "execute_result"
    },
    {
     "data": {
      "image/png": "[encoded data removed]",
      "text/plain": [
       "<Figure size 640x480 with 1 Axes>"
      ]
     },
     "metadata": {},
     "output_type": "display_data"
    }
   ],
   "source": [
    "coluna_fechamento.plot()"
   ]
  },
  {
   "cell_type": "markdown",
   "id": "23832568",
   "metadata": {},
   "source": [
    "## Gerando as estatísticas\n",
    "- **cotação máxima:** max()\n",
    "- **cotação mínima:** min()\n",
    "- **cotação atual:** é a última linha. Para acessar basta colocar [-1]"
   ]
  },
  {
   "cell_type": "code",
   "execution_count": 6,
   "id": "e8b1d1c1",
   "metadata": {},
   "outputs": [
    {
     "name": "stdout",
     "output_type": "stream",
     "text": [
      "38.52000045776367\n",
      "20.486406326293945\n",
      "37.849998474121094\n"
     ]
    }
   ],
   "source": [
    "cotacao_maxima = coluna_fechamento.max()\n",
    "cotacao_minima = coluna_fechamento.min()\n",
    "cotacao_atual = coluna_fechamento[-1]\n",
    "\n",
    "print(cotacao_maxima)\n",
    "print(cotacao_minima)\n",
    "print(cotacao_atual)"
   ]
  },
  {
   "cell_type": "markdown",
   "id": "1a2459cd",
   "metadata": {},
   "source": [
    "## Enviando e-mail de forma automática\n",
    "- Processo de enviar um e-mail passo a passo:\n",
    "    - abrir uma nova aba no navegador (podemos usar o atalho CTRL + T)\n",
    "    - digitar o endereço do gmail e pressionar enter\n",
    "    - Selecionar o botão de escrever\n",
    "    - digitar o endereço de e-mail do destinatário\n",
    "    - mudar para o campo Assunto (podemos clicar no campo ou clicar no TAB)\n",
    "    - digitar o assunto\n",
    "    - mudar para o campo principal do e-mail (podemos clicar no campo ou clicar no TAB)\n",
    "    - escrever a mensagem\n",
    "    - Clicar em Enviar (CTRL + ENTER)"
   ]
  },
  {
   "cell_type": "markdown",
   "id": "e95a2c96",
   "metadata": {},
   "source": [
    "### Criando os dados do e-mail para serem enviados"
   ]
  },
  {
   "cell_type": "code",
   "execution_count": 7,
   "id": "ea9da6a3",
   "metadata": {},
   "outputs": [],
   "source": [
    "destinatario = \"teste@gmail.com\"\n",
    "assunto = \"Análise diária\"\n",
    "\n",
    "mensagem = f\"\"\"\n",
    "Prezado Gestor,\n",
    "\n",
    "Segue abaixo as análises da ação {codigo_acao} dos últimos seis meses:\n",
    "\n",
    "Cotação máxima: R${round(cotacao_maxima, 2)}\n",
    "Cotação mínima: R${round(cotacao_minima, 2)}\n",
    "Cotação atual: R$ {round(cotacao_atual, 2)}\n",
    "\n",
    "Atenciosamente,\n",
    "Moisés.\n",
    "\"\"\""
   ]
  },
  {
   "cell_type": "markdown",
   "id": "87d8c08f",
   "metadata": {},
   "source": [
    "### Mostrando como vai a mensagem no e-mail"
   ]
  },
  {
   "cell_type": "code",
   "execution_count": 8,
   "id": "c8d14a2f",
   "metadata": {},
   "outputs": [
    {
     "name": "stdout",
     "output_type": "stream",
     "text": [
      "teste@gmail.com\n",
      "Análise diária\n",
      "\n",
      "Prezado Gestor,\n",
      "\n",
      "Segue abaixo as análises da ação PETR4.SA dos últimos seis meses:\n",
      "\n",
      "Cotação máxima: R$38.52\n",
      "Cotação mínima: R$20.49\n",
      "Cotação atual: R$ 37.85\n",
      "\n",
      "Atenciosamente,\n",
      "Moisés.\n",
      "\n"
     ]
    }
   ],
   "source": [
    "# Imprimindo os dados\n",
    "print(destinatario)\n",
    "print(assunto)\n",
    "print(mensagem)"
   ]
  },
  {
   "cell_type": "markdown",
   "id": "80e7e115",
   "metadata": {},
   "source": [
    "### Automatizando o envio"
   ]
  },
  {
   "cell_type": "code",
   "execution_count": 9,
   "id": "803794e7",
   "metadata": {},
   "outputs": [
    {
     "data": {
      "text/plain": [
       "'OK'"
      ]
     },
     "execution_count": 9,
     "metadata": {},
     "output_type": "execute_result"
    }
   ],
   "source": [
    "# Pausa entre as ações do pyautogui\n",
    "pyautogui.PAUSE = 3\n",
    "\n",
    "# Abrir uma nova aba\n",
    "pyautogui.hotkey(\"ctrl\", \"t\")\n",
    "\n",
    "# Digitando na aba o endereço do gmail\n",
    "pyautogui.write(\"www.gmail.com\")\n",
    "pyautogui.press(\"enter\")\n",
    "\n",
    "# Abrir o campo de mensagem\n",
    "pyautogui.hotkey(\"c\")\n",
    "\n",
    "# Preenchendo o destinatário\n",
    "pyautogui.write(destinatario)\n",
    "pyautogui.press(\"enter\")\n",
    "pyautogui.press(\"tab\")\n",
    "\n",
    "# Preenchendo o assunto\n",
    "pyperclip.copy(assunto)\n",
    "pyautogui.hotkey(\"ctrl\", \"v\")\n",
    "pyautogui.press(\"tab\")\n",
    "\n",
    "# Preenchendo a mensagem\n",
    "pyperclip.copy(mensagem)\n",
    "pyautogui.hotkey(\"ctrl\", \"v\")\n",
    "\n",
    "\n",
    "# Enviando o e-mail\n",
    "pyautogui.hotkey(\"ctrl\", \"enter\")\n",
    "\n",
    "# Imprimindo mensagem de confirmação do e-mail enviado\n",
    "pyautogui.alert(\"E-mail enviado com sucesso!\")"
   ]
  },
  {
   "cell_type": "code",
   "execution_count": null,
   "id": "6d8a381a",
   "metadata": {},
   "outputs": [],
   "source": []
  }
 ],
 "metadata": {
  "kernelspec": {
   "display_name": "Python 3 (ipykernel)",
   "language": "python",
   "name": "python3"
  },
  "language_info": {
   "codemirror_mode": {
    "name": "ipython",
    "version": 3
   },
   "file_extension": ".py",
   "mimetype": "text/x-python",
   "name": "python",
   "nbconvert_exporter": "python",
   "pygments_lexer": "ipython3",
   "version": "3.11.5"
  }
 },
 "nbformat": 4,
 "nbformat_minor": 5
}
