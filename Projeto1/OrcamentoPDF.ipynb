{
 "cells": [
  {
   "cell_type": "markdown",
   "id": "cb71cd53",
   "metadata": {},
   "source": [
    "# Gerador automático de orçamento\n",
    "\n",
    "- *Cenário:* Emitir orçamentos para uma empresa\n",
    "- O projeto deve ter:\n",
    "    - Descrição do projeto\n",
    "    - Total de horas estimadas\n",
    "    - Valor da hora de trabalho\n",
    "    - Prazo de entrega estimada."
   ]
  },
  {
   "cell_type": "markdown",
   "id": "d4c7deec",
   "metadata": {},
   "source": [
    "## Importando a biblioteca FPDF\n",
    "- Caso não esteja instalado: `!pip install fpdf`"
   ]
  },
  {
   "cell_type": "code",
   "execution_count": 1,
   "id": "97cb64cb",
   "metadata": {},
   "outputs": [],
   "source": [
    "from fpdf import FPDF\n",
    "\n",
    "# Criando um arquivo pdf\n",
    "pdf = FPDF()\n",
    "pdf.add_page()\n",
    "pdf.set_font(\"Arial\")"
   ]
  },
  {
   "cell_type": "markdown",
   "id": "3389680d",
   "metadata": {},
   "source": [
    "## Entrada de dados do usuário"
   ]
  },
  {
   "cell_type": "code",
   "execution_count": 2,
   "id": "8ce2cb0b",
   "metadata": {},
   "outputs": [
    {
     "name": "stdout",
     "output_type": "stream",
     "text": [
      "Digite a descrição do projeto: Desenvolvedor Python\n",
      "Digite o total de horas estimadas: 12\n",
      "Digite o valor da hora trabalhada: 80\n",
      "Digite o prazo estimado: 1 semana\n"
     ]
    }
   ],
   "source": [
    "# Entrada de dados do usuário\n",
    "descricao_projeto = input(\"Digite a descrição do projeto: \")\n",
    "horas_estimadas = input(\"Digite o total de horas estimadas: \")\n",
    "valor_hora = input(\"Digite o valor da hora trabalhada: \")\n",
    "prazo_estimado = input(\"Digite o prazo estimado: \")"
   ]
  },
  {
   "cell_type": "code",
   "execution_count": 3,
   "id": "8edd062c",
   "metadata": {
    "scrolled": true
   },
   "outputs": [],
   "source": [
    "# Cálculo do valor total estimado\n",
    "valor_total_estimado = int(horas_estimadas) * int(valor_hora)"
   ]
  },
  {
   "cell_type": "markdown",
   "id": "ca3eb262",
   "metadata": {},
   "source": [
    "## Selecionando o templete que será usado"
   ]
  },
  {
   "cell_type": "code",
   "execution_count": 4,
   "id": "63432dd4",
   "metadata": {},
   "outputs": [],
   "source": [
    "pdf.image(\"template.png\", x=0, y=0)"
   ]
  },
  {
   "cell_type": "markdown",
   "id": "7f7a47fd",
   "metadata": {},
   "source": [
    "## Inserindo dados no pdf"
   ]
  },
  {
   "cell_type": "code",
   "execution_count": 5,
   "id": "65770ff2",
   "metadata": {},
   "outputs": [],
   "source": [
    "pdf.text(115, 145, descricao_projeto)\n",
    "pdf.text(115, 160, horas_estimadas)\n",
    "pdf.text(115, 175, valor_hora)\n",
    "pdf.text(115, 190, prazo_estimado)\n",
    "pdf.text(115, 205, str(valor_total_estimado))"
   ]
  },
  {
   "cell_type": "markdown",
   "id": "ba7653e3",
   "metadata": {},
   "source": [
    "## Salvando o arquivo e gerando o pdf"
   ]
  },
  {
   "cell_type": "code",
   "execution_count": 6,
   "id": "eee8557c",
   "metadata": {},
   "outputs": [
    {
     "name": "stdout",
     "output_type": "stream",
     "text": [
      "Orçamento gerado com sucesso!\n"
     ]
    }
   ],
   "source": [
    "pdf.output(f\"{descricao_projeto}.pdf\")\n",
    "print(\"Orçamento gerado com sucesso!\")"
   ]
  }
 ],
 "metadata": {
  "kernelspec": {
   "display_name": "Python 3 (ipykernel)",
   "language": "python",
   "name": "python3"
  },
  "language_info": {
   "codemirror_mode": {
    "name": "ipython",
    "version": 3
   },
   "file_extension": ".py",
   "mimetype": "text/x-python",
   "name": "python",
   "nbconvert_exporter": "python",
   "pygments_lexer": "ipython3",
   "version": "3.11.5"
  }
 },
 "nbformat": 4,
 "nbformat_minor": 5
}
